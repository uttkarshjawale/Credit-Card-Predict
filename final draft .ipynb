{
 "cells": [
  {
   "cell_type": "code",
   "execution_count": 1,
   "id": "b5e25fff",
   "metadata": {},
   "outputs": [],
   "source": [
    "import pandas as pd"
   ]
  },
  {
   "cell_type": "code",
   "execution_count": 4,
   "id": "69dd3780",
   "metadata": {},
   "outputs": [],
   "source": [
    "df=pd.read_csv(r'C:\\Users\\win\\Downloads\\archive (4)\\UCI_Credit_Card.csv')"
   ]
  },
  {
   "cell_type": "code",
   "execution_count": 5,
   "id": "8769fcc6",
   "metadata": {},
   "outputs": [
    {
     "name": "stdout",
     "output_type": "stream",
     "text": [
      "<class 'pandas.core.frame.DataFrame'>\n",
      "RangeIndex: 30000 entries, 0 to 29999\n",
      "Data columns (total 25 columns):\n",
      " #   Column                      Non-Null Count  Dtype  \n",
      "---  ------                      --------------  -----  \n",
      " 0   ID                          30000 non-null  int64  \n",
      " 1   LIMIT_BAL                   30000 non-null  float64\n",
      " 2   SEX                         30000 non-null  int64  \n",
      " 3   EDUCATION                   30000 non-null  int64  \n",
      " 4   MARRIAGE                    30000 non-null  int64  \n",
      " 5   AGE                         30000 non-null  int64  \n",
      " 6   PAY_0                       30000 non-null  int64  \n",
      " 7   PAY_2                       30000 non-null  int64  \n",
      " 8   PAY_3                       30000 non-null  int64  \n",
      " 9   PAY_4                       30000 non-null  int64  \n",
      " 10  PAY_5                       30000 non-null  int64  \n",
      " 11  PAY_6                       30000 non-null  int64  \n",
      " 12  BILL_AMT1                   30000 non-null  float64\n",
      " 13  BILL_AMT2                   30000 non-null  float64\n",
      " 14  BILL_AMT3                   30000 non-null  float64\n",
      " 15  BILL_AMT4                   30000 non-null  float64\n",
      " 16  BILL_AMT5                   30000 non-null  float64\n",
      " 17  BILL_AMT6                   30000 non-null  float64\n",
      " 18  PAY_AMT1                    30000 non-null  float64\n",
      " 19  PAY_AMT2                    30000 non-null  float64\n",
      " 20  PAY_AMT3                    30000 non-null  float64\n",
      " 21  PAY_AMT4                    30000 non-null  float64\n",
      " 22  PAY_AMT5                    30000 non-null  float64\n",
      " 23  PAY_AMT6                    30000 non-null  float64\n",
      " 24  default.payment.next.month  30000 non-null  int64  \n",
      "dtypes: float64(13), int64(12)\n",
      "memory usage: 5.7 MB\n"
     ]
    }
   ],
   "source": [
    "df.info()"
   ]
  },
  {
   "cell_type": "code",
   "execution_count": 6,
   "id": "5d287ad3",
   "metadata": {},
   "outputs": [],
   "source": [
    "DF1=df.drop(['SEX','EDUCATION','MARRIAGE'],axis=1)"
   ]
  },
  {
   "cell_type": "code",
   "execution_count": 7,
   "id": "5714f8b8",
   "metadata": {},
   "outputs": [],
   "source": [
    "x= DF1.iloc[:,1:-1].values  \n",
    "y= DF1.iloc[:, -1].values "
   ]
  },
  {
   "cell_type": "code",
   "execution_count": 8,
   "id": "192f0058",
   "metadata": {},
   "outputs": [],
   "source": [
    "from sklearn.model_selection import train_test_split  \n",
    "x_train, x_test, y_train, y_test= train_test_split(x, y, test_size= 0.25, random_state=0) "
   ]
  },
  {
   "cell_type": "code",
   "execution_count": 9,
   "id": "c9145ab7",
   "metadata": {},
   "outputs": [],
   "source": [
    "from sklearn.preprocessing import MinMaxScaler    \n",
    "st_x= MinMaxScaler()    \n",
    "\n",
    "x_train= st_x.fit_transform(x_train)    \n",
    "x_test= st_x.transform(x_test)"
   ]
  },
  {
   "cell_type": "code",
   "execution_count": 11,
   "id": "d1bcc547",
   "metadata": {},
   "outputs": [],
   "source": [
    "import pickle\n",
    "pickle.dump(st_x,open('scaling.pkl','wb'))\n"
   ]
  },
  {
   "cell_type": "code",
   "execution_count": 12,
   "id": "01be7ff3",
   "metadata": {},
   "outputs": [
    {
     "data": {
      "text/plain": [
       "RandomForestClassifier(criterion='entropy', n_estimators=200)"
      ]
     },
     "execution_count": 12,
     "metadata": {},
     "output_type": "execute_result"
    }
   ],
   "source": [
    "from sklearn.ensemble import RandomForestClassifier  \n",
    "classifier= RandomForestClassifier(n_estimators= 200, criterion=\"entropy\")  \n",
    "classifier.fit(x_train, y_train)"
   ]
  },
  {
   "cell_type": "code",
   "execution_count": 13,
   "id": "a7dae88b",
   "metadata": {},
   "outputs": [],
   "source": [
    "y_pred= classifier.predict(x_test)"
   ]
  },
  {
   "cell_type": "code",
   "execution_count": 14,
   "id": "0e4ceea2",
   "metadata": {},
   "outputs": [
    {
     "data": {
      "text/plain": [
       "array([[5528,  340],\n",
       "       [1026,  606]], dtype=int64)"
      ]
     },
     "execution_count": 14,
     "metadata": {},
     "output_type": "execute_result"
    }
   ],
   "source": [
    "from sklearn.metrics import confusion_matrix  \n",
    "cm= confusion_matrix(y_test, y_pred)\n",
    "cm"
   ]
  },
  {
   "cell_type": "code",
   "execution_count": 15,
   "id": "20c59731",
   "metadata": {},
   "outputs": [],
   "source": [
    "from sklearn.metrics import accuracy_score\n",
    "score =accuracy_score(y_test,y_pred)"
   ]
  },
  {
   "cell_type": "code",
   "execution_count": 16,
   "id": "d9a83bc2",
   "metadata": {},
   "outputs": [
    {
     "data": {
      "text/plain": [
       "0.8178666666666666"
      ]
     },
     "execution_count": 16,
     "metadata": {},
     "output_type": "execute_result"
    }
   ],
   "source": [
    "score"
   ]
  },
  {
   "cell_type": "code",
   "execution_count": 17,
   "id": "8bd459cf",
   "metadata": {},
   "outputs": [],
   "source": [
    "import numpy as np"
   ]
  },
  {
   "cell_type": "code",
   "execution_count": 27,
   "id": "517f89c9",
   "metadata": {},
   "outputs": [
    {
     "name": "stdout",
     "output_type": "stream",
     "text": [
      "<class 'pandas.core.frame.DataFrame'>\n",
      "RangeIndex: 30000 entries, 0 to 29999\n",
      "Data columns (total 22 columns):\n",
      " #   Column                      Non-Null Count  Dtype  \n",
      "---  ------                      --------------  -----  \n",
      " 0   ID                          30000 non-null  int64  \n",
      " 1   LIMIT_BAL                   30000 non-null  float64\n",
      " 2   AGE                         30000 non-null  int64  \n",
      " 3   PAY_0                       30000 non-null  int64  \n",
      " 4   PAY_2                       30000 non-null  int64  \n",
      " 5   PAY_3                       30000 non-null  int64  \n",
      " 6   PAY_4                       30000 non-null  int64  \n",
      " 7   PAY_5                       30000 non-null  int64  \n",
      " 8   PAY_6                       30000 non-null  int64  \n",
      " 9   BILL_AMT1                   30000 non-null  float64\n",
      " 10  BILL_AMT2                   30000 non-null  float64\n",
      " 11  BILL_AMT3                   30000 non-null  float64\n",
      " 12  BILL_AMT4                   30000 non-null  float64\n",
      " 13  BILL_AMT5                   30000 non-null  float64\n",
      " 14  BILL_AMT6                   30000 non-null  float64\n",
      " 15  PAY_AMT1                    30000 non-null  float64\n",
      " 16  PAY_AMT2                    30000 non-null  float64\n",
      " 17  PAY_AMT3                    30000 non-null  float64\n",
      " 18  PAY_AMT4                    30000 non-null  float64\n",
      " 19  PAY_AMT5                    30000 non-null  float64\n",
      " 20  PAY_AMT6                    30000 non-null  float64\n",
      " 21  default.payment.next.month  30000 non-null  int64  \n",
      "dtypes: float64(13), int64(9)\n",
      "memory usage: 5.0 MB\n"
     ]
    }
   ],
   "source": [
    "DF1.info()"
   ]
  },
  {
   "cell_type": "code",
   "execution_count": 18,
   "id": "9ade344d",
   "metadata": {},
   "outputs": [],
   "source": [
    "data=[float(input('LIMIT_BAL')),float(input('AGE')),float(input('PAY_0')),float(input('PAY_2')),float(input('PAY_3')),float(input('PAY_4')),float(input('PAY_5')),float(input('PAY_6')),float(input('BILL_AMT1')),float(input('BILL_AMT2')),float(input('BILL_AMT3')),float(input('BILL_AMT4')),float(input('BILL_AMT5')),float(input('BILL_AMT6')),float(input('PAY_AMT1')),float(input('PAY_AMT2')),float(input('PAY_AMT3')),float(input('PAY_AMT4')),float(input('PAY_AMT5')),float(input('PAY_AMT6'))]\n",
    "arr=np.array([data])"
   ]
  },
  {
   "cell_type": "code",
   "execution_count": 19,
   "id": "2addb24c",
   "metadata": {},
   "outputs": [],
   "source": [
    "Data=st_x.transform(arr.reshape(1,-1))"
   ]
  },
  {
   "cell_type": "code",
   "execution_count": 20,
   "id": "649e20bd",
   "metadata": {},
   "outputs": [
    {
     "data": {
      "text/plain": [
       "array([0], dtype=int64)"
      ]
     },
     "execution_count": 20,
     "metadata": {},
     "output_type": "execute_result"
    }
   ],
   "source": [
    "classifier.predict(Data)"
   ]
  },
  {
   "cell_type": "code",
   "execution_count": 21,
   "id": "5afa9eb0",
   "metadata": {},
   "outputs": [],
   "source": [
    "import pickle"
   ]
  },
  {
   "cell_type": "code",
   "execution_count": 22,
   "id": "8d754e24",
   "metadata": {},
   "outputs": [],
   "source": [
    "pickle.dump(classifier,open('classifier.pkl','wb'))"
   ]
  },
  {
   "cell_type": "code",
   "execution_count": 23,
   "id": "7f5d167a",
   "metadata": {},
   "outputs": [],
   "source": [
    "pickled_model=pickle.load(open('classifier.pkl','rb'))"
   ]
  },
  {
   "cell_type": "code",
   "execution_count": 24,
   "id": "28f9b7f6",
   "metadata": {},
   "outputs": [
    {
     "data": {
      "text/plain": [
       "array([1], dtype=int64)"
      ]
     },
     "execution_count": 24,
     "metadata": {},
     "output_type": "execute_result"
    }
   ],
   "source": [
    "pickled_model.predict(st_x.transform(Data))"
   ]
  }
 ],
 "metadata": {
  "kernelspec": {
   "display_name": "Python 3.7.0 (conda)",
   "language": "python",
   "name": "python3"
  },
  "language_info": {
   "codemirror_mode": {
    "name": "ipython",
    "version": 3
   },
   "file_extension": ".py",
   "mimetype": "text/x-python",
   "name": "python",
   "nbconvert_exporter": "python",
   "pygments_lexer": "ipython3",
   "version": "3.7.0"
  },
  "vscode": {
   "interpreter": {
    "hash": "39965f344132f3b6ffb3dc5bd356004870aab2ee949aed939506c1ceb001aae1"
   }
  }
 },
 "nbformat": 4,
 "nbformat_minor": 5
}
